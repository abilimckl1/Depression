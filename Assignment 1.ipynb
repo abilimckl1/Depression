{
 "cells": [
  {
   "cell_type": "code",
   "execution_count": 1,
   "id": "6c41b3b1",
   "metadata": {},
   "outputs": [],
   "source": [
    "import os\n",
    "import pandas as pd\n",
    "import matplotlib.pyplot as plt\n",
    "import numpy as np"
   ]
  },
  {
   "cell_type": "code",
   "execution_count": 2,
   "id": "baaac67f",
   "metadata": {},
   "outputs": [],
   "source": [
    "path='D:\\\\CDS503\\\\Assignment 1\\\\Depression'\n",
    "os.chdir(path)\n",
    "\n",
    "# Read csv data file\n",
    "# Data without feature standardization\n",
    "df_freq = pd.read_csv('Freq-PHO-Binary.csv')\n",
    "df_norm = pd.read_csv('Norm-PHO-Binary.csv')"
   ]
  },
  {
   "cell_type": "code",
   "execution_count": 3,
   "id": "b0d391f7",
   "metadata": {},
   "outputs": [],
   "source": [
    "# Import LabelEncoder\n",
    "from sklearn import preprocessing\n",
    "# Create LabelEncoder\n",
    "le = preprocessing.LabelEncoder()\n",
    "# Convert string categories into numbers for gender and depression\n",
    "df_freq['Gender'] = le.fit_transform(df_freq['Gender'])\n",
    "df_freq['Depression'] = le.fit_transform(df_freq['Depression'])\n",
    "df_norm['Gender'] = le.fit_transform(df_norm['Gender'])\n",
    "df_norm['Depression'] = le.fit_transform(df_norm['Depression'])\n"
   ]
  },
  {
   "cell_type": "code",
   "execution_count": 4,
   "id": "44ecfdef",
   "metadata": {},
   "outputs": [
    {
     "data": {
      "text/html": [
       "<div>\n",
       "<style scoped>\n",
       "    .dataframe tbody tr th:only-of-type {\n",
       "        vertical-align: middle;\n",
       "    }\n",
       "\n",
       "    .dataframe tbody tr th {\n",
       "        vertical-align: top;\n",
       "    }\n",
       "\n",
       "    .dataframe thead th {\n",
       "        text-align: right;\n",
       "    }\n",
       "</style>\n",
       "<table border=\"1\" class=\"dataframe\">\n",
       "  <thead>\n",
       "    <tr style=\"text-align: right;\">\n",
       "      <th></th>\n",
       "      <th>Gender</th>\n",
       "      <th>Emotion_Joy</th>\n",
       "      <th>Emotion_Sadness</th>\n",
       "      <th>Emotion_Anger</th>\n",
       "      <th>Emotion_Disgust</th>\n",
       "      <th>Emotion_Fear</th>\n",
       "      <th>Emotion_Surprise</th>\n",
       "      <th>Emotion_Contempt</th>\n",
       "      <th>Emotion_Neutral</th>\n",
       "      <th>Depression</th>\n",
       "    </tr>\n",
       "  </thead>\n",
       "  <tbody>\n",
       "    <tr>\n",
       "      <th>0</th>\n",
       "      <td>0</td>\n",
       "      <td>4</td>\n",
       "      <td>3</td>\n",
       "      <td>2</td>\n",
       "      <td>1</td>\n",
       "      <td>0</td>\n",
       "      <td>2</td>\n",
       "      <td>2</td>\n",
       "      <td>1</td>\n",
       "      <td>0</td>\n",
       "    </tr>\n",
       "    <tr>\n",
       "      <th>1</th>\n",
       "      <td>0</td>\n",
       "      <td>8</td>\n",
       "      <td>0</td>\n",
       "      <td>2</td>\n",
       "      <td>0</td>\n",
       "      <td>1</td>\n",
       "      <td>0</td>\n",
       "      <td>0</td>\n",
       "      <td>4</td>\n",
       "      <td>0</td>\n",
       "    </tr>\n",
       "    <tr>\n",
       "      <th>2</th>\n",
       "      <td>1</td>\n",
       "      <td>5</td>\n",
       "      <td>0</td>\n",
       "      <td>0</td>\n",
       "      <td>0</td>\n",
       "      <td>14</td>\n",
       "      <td>2</td>\n",
       "      <td>0</td>\n",
       "      <td>15</td>\n",
       "      <td>0</td>\n",
       "    </tr>\n",
       "    <tr>\n",
       "      <th>3</th>\n",
       "      <td>1</td>\n",
       "      <td>7</td>\n",
       "      <td>0</td>\n",
       "      <td>3</td>\n",
       "      <td>0</td>\n",
       "      <td>0</td>\n",
       "      <td>5</td>\n",
       "      <td>0</td>\n",
       "      <td>0</td>\n",
       "      <td>0</td>\n",
       "    </tr>\n",
       "    <tr>\n",
       "      <th>4</th>\n",
       "      <td>1</td>\n",
       "      <td>3</td>\n",
       "      <td>2</td>\n",
       "      <td>1</td>\n",
       "      <td>0</td>\n",
       "      <td>2</td>\n",
       "      <td>1</td>\n",
       "      <td>0</td>\n",
       "      <td>6</td>\n",
       "      <td>1</td>\n",
       "    </tr>\n",
       "  </tbody>\n",
       "</table>\n",
       "</div>"
      ],
      "text/plain": [
       "   Gender  Emotion_Joy  Emotion_Sadness  Emotion_Anger  Emotion_Disgust  \\\n",
       "0       0            4                3              2                1   \n",
       "1       0            8                0              2                0   \n",
       "2       1            5                0              0                0   \n",
       "3       1            7                0              3                0   \n",
       "4       1            3                2              1                0   \n",
       "\n",
       "   Emotion_Fear  Emotion_Surprise  Emotion_Contempt  Emotion_Neutral  \\\n",
       "0             0                 2                 2                1   \n",
       "1             1                 0                 0                4   \n",
       "2            14                 2                 0               15   \n",
       "3             0                 5                 0                0   \n",
       "4             2                 1                 0                6   \n",
       "\n",
       "   Depression  \n",
       "0           0  \n",
       "1           0  \n",
       "2           0  \n",
       "3           0  \n",
       "4           1  "
      ]
     },
     "execution_count": 4,
     "metadata": {},
     "output_type": "execute_result"
    }
   ],
   "source": [
    "df_freq.head()"
   ]
  },
  {
   "cell_type": "code",
   "execution_count": 5,
   "id": "0746c7ad",
   "metadata": {},
   "outputs": [
    {
     "data": {
      "text/html": [
       "<div>\n",
       "<style scoped>\n",
       "    .dataframe tbody tr th:only-of-type {\n",
       "        vertical-align: middle;\n",
       "    }\n",
       "\n",
       "    .dataframe tbody tr th {\n",
       "        vertical-align: top;\n",
       "    }\n",
       "\n",
       "    .dataframe thead th {\n",
       "        text-align: right;\n",
       "    }\n",
       "</style>\n",
       "<table border=\"1\" class=\"dataframe\">\n",
       "  <thead>\n",
       "    <tr style=\"text-align: right;\">\n",
       "      <th></th>\n",
       "      <th>Gender</th>\n",
       "      <th>Emotion_Joy</th>\n",
       "      <th>Emotion_Sadness</th>\n",
       "      <th>Emotion_Anger</th>\n",
       "      <th>Emotion_Disgust</th>\n",
       "      <th>Emotion_Fear</th>\n",
       "      <th>Emotion_Surprise</th>\n",
       "      <th>Emotion_Contempt</th>\n",
       "      <th>Emotion_Neutral</th>\n",
       "      <th>Depression</th>\n",
       "    </tr>\n",
       "  </thead>\n",
       "  <tbody>\n",
       "    <tr>\n",
       "      <th>0</th>\n",
       "      <td>0</td>\n",
       "      <td>4.00</td>\n",
       "      <td>3.0</td>\n",
       "      <td>2.0</td>\n",
       "      <td>1.0</td>\n",
       "      <td>0.00</td>\n",
       "      <td>2.00</td>\n",
       "      <td>2.0</td>\n",
       "      <td>1.0</td>\n",
       "      <td>0</td>\n",
       "    </tr>\n",
       "    <tr>\n",
       "      <th>1</th>\n",
       "      <td>0</td>\n",
       "      <td>8.00</td>\n",
       "      <td>0.0</td>\n",
       "      <td>2.0</td>\n",
       "      <td>0.0</td>\n",
       "      <td>1.00</td>\n",
       "      <td>0.00</td>\n",
       "      <td>0.0</td>\n",
       "      <td>4.0</td>\n",
       "      <td>0</td>\n",
       "    </tr>\n",
       "    <tr>\n",
       "      <th>2</th>\n",
       "      <td>1</td>\n",
       "      <td>1.67</td>\n",
       "      <td>0.0</td>\n",
       "      <td>0.0</td>\n",
       "      <td>0.0</td>\n",
       "      <td>6.17</td>\n",
       "      <td>0.67</td>\n",
       "      <td>0.0</td>\n",
       "      <td>6.5</td>\n",
       "      <td>0</td>\n",
       "    </tr>\n",
       "    <tr>\n",
       "      <th>3</th>\n",
       "      <td>1</td>\n",
       "      <td>7.00</td>\n",
       "      <td>0.0</td>\n",
       "      <td>3.0</td>\n",
       "      <td>0.0</td>\n",
       "      <td>0.00</td>\n",
       "      <td>5.00</td>\n",
       "      <td>0.0</td>\n",
       "      <td>0.0</td>\n",
       "      <td>0</td>\n",
       "    </tr>\n",
       "    <tr>\n",
       "      <th>4</th>\n",
       "      <td>1</td>\n",
       "      <td>3.00</td>\n",
       "      <td>2.0</td>\n",
       "      <td>1.0</td>\n",
       "      <td>0.0</td>\n",
       "      <td>2.00</td>\n",
       "      <td>1.00</td>\n",
       "      <td>0.0</td>\n",
       "      <td>6.0</td>\n",
       "      <td>1</td>\n",
       "    </tr>\n",
       "  </tbody>\n",
       "</table>\n",
       "</div>"
      ],
      "text/plain": [
       "   Gender  Emotion_Joy  Emotion_Sadness  Emotion_Anger  Emotion_Disgust  \\\n",
       "0       0         4.00              3.0            2.0              1.0   \n",
       "1       0         8.00              0.0            2.0              0.0   \n",
       "2       1         1.67              0.0            0.0              0.0   \n",
       "3       1         7.00              0.0            3.0              0.0   \n",
       "4       1         3.00              2.0            1.0              0.0   \n",
       "\n",
       "   Emotion_Fear  Emotion_Surprise  Emotion_Contempt  Emotion_Neutral  \\\n",
       "0          0.00              2.00               2.0              1.0   \n",
       "1          1.00              0.00               0.0              4.0   \n",
       "2          6.17              0.67               0.0              6.5   \n",
       "3          0.00              5.00               0.0              0.0   \n",
       "4          2.00              1.00               0.0              6.0   \n",
       "\n",
       "   Depression  \n",
       "0           0  \n",
       "1           0  \n",
       "2           0  \n",
       "3           0  \n",
       "4           1  "
      ]
     },
     "execution_count": 5,
     "metadata": {},
     "output_type": "execute_result"
    }
   ],
   "source": [
    "df_norm.head()"
   ]
  },
  {
   "cell_type": "code",
   "execution_count": 6,
   "id": "36d3883d",
   "metadata": {},
   "outputs": [
    {
     "data": {
      "text/plain": [
       "Gender              int32\n",
       "Emotion_Joy         int64\n",
       "Emotion_Sadness     int64\n",
       "Emotion_Anger       int64\n",
       "Emotion_Disgust     int64\n",
       "Emotion_Fear        int64\n",
       "Emotion_Surprise    int64\n",
       "Emotion_Contempt    int64\n",
       "Emotion_Neutral     int64\n",
       "Depression          int32\n",
       "dtype: object"
      ]
     },
     "execution_count": 6,
     "metadata": {},
     "output_type": "execute_result"
    }
   ],
   "source": [
    "df_freq.dtypes"
   ]
  },
  {
   "cell_type": "code",
   "execution_count": 7,
   "id": "373f0e08",
   "metadata": {},
   "outputs": [],
   "source": [
    "target_df_freq = df_freq['Depression']\n",
    "target_df_norm = df_norm['Depression']\n",
    "\n",
    "features_df_freq = df_freq.drop(['Depression'], axis=1)\n",
    "features_df_norm = df_norm.drop(['Depression'], axis=1)"
   ]
  },
  {
   "cell_type": "code",
   "execution_count": 8,
   "id": "99b6f5b2",
   "metadata": {},
   "outputs": [
    {
     "data": {
      "text/plain": [
       "0    186\n",
       "1    160\n",
       "Name: Depression, dtype: int64"
      ]
     },
     "execution_count": 8,
     "metadata": {},
     "output_type": "execute_result"
    }
   ],
   "source": [
    "depression_count = target_df_freq.value_counts()\n",
    "depression_count"
   ]
  },
  {
   "cell_type": "code",
   "execution_count": 9,
   "id": "ce078aa3",
   "metadata": {},
   "outputs": [
    {
     "data": {
      "text/plain": [
       "No     186\n",
       "Yes    160\n",
       "Name: Depression, dtype: int64"
      ]
     },
     "execution_count": 9,
     "metadata": {},
     "output_type": "execute_result"
    }
   ],
   "source": [
    "depression_count = depression_count.rename(index={0:'No',1:'Yes'})\n",
    "depression_count "
   ]
  },
  {
   "cell_type": "code",
   "execution_count": 10,
   "id": "7176cbd5",
   "metadata": {},
   "outputs": [
    {
     "data": {
      "text/plain": [
       "Index(['No', 'Yes'], dtype='object')"
      ]
     },
     "execution_count": 10,
     "metadata": {},
     "output_type": "execute_result"
    }
   ],
   "source": [
    "depression_count.index"
   ]
  },
  {
   "cell_type": "code",
   "execution_count": 11,
   "id": "16ab60e6",
   "metadata": {},
   "outputs": [
    {
     "data": {
      "image/png": "[encoded data removed]",
      "text/plain": [
       "<Figure size 640x480 with 1 Axes>"
      ]
     },
     "metadata": {},
     "output_type": "display_data"
    }
   ],
   "source": [
    "myexplode = [0.05, 0]\n",
    "mycolors = ['orange','blue']\n",
    "plt.pie(depression_count, explode = myexplode, colors = mycolors, autopct='%1.1f%%')\n",
    "plt.legend(depression_count.index)\n",
    "plt.show()"
   ]
  },
  {
   "cell_type": "markdown",
   "id": "c26870e2",
   "metadata": {},
   "source": [
    "## Train Test Split"
   ]
  },
  {
   "cell_type": "code",
   "execution_count": 12,
   "id": "fb40b90e",
   "metadata": {},
   "outputs": [],
   "source": [
    "from sklearn.model_selection import train_test_split"
   ]
  },
  {
   "cell_type": "markdown",
   "id": "b4b50e39",
   "metadata": {},
   "source": [
    "#### Run this for Freq"
   ]
  },
  {
   "cell_type": "code",
   "execution_count": 157,
   "id": "a7050d05",
   "metadata": {},
   "outputs": [],
   "source": [
    "x_train, x_test, y_train, y_test = train_test_split(features_df_freq, target_df_freq, test_size = 0.2, random_state=0)"
   ]
  },
  {
   "cell_type": "markdown",
   "id": "490e8b81",
   "metadata": {},
   "source": [
    "#### Run this for Norm"
   ]
  },
  {
   "cell_type": "code",
   "execution_count": 206,
   "id": "ce68b243",
   "metadata": {},
   "outputs": [],
   "source": [
    "x_train, x_test, y_train, y_test = train_test_split(features_df_norm, target_df_norm, test_size = 0.2, random_state=0)"
   ]
  },
  {
   "cell_type": "markdown",
   "id": "09587725",
   "metadata": {},
   "source": [
    "# "
   ]
  },
  {
   "cell_type": "markdown",
   "id": "a5b2dea2",
   "metadata": {},
   "source": [
    "## 3 Classifications + Dummy Classifier"
   ]
  },
  {
   "cell_type": "markdown",
   "id": "204b4714",
   "metadata": {},
   "source": [
    "# Dummy Classifier"
   ]
  },
  {
   "cell_type": "code",
   "execution_count": 57,
   "id": "446f8ee8",
   "metadata": {},
   "outputs": [],
   "source": [
    "from sklearn.dummy import DummyClassifier\n",
    "from sklearn.model_selection import cross_val_score\n",
    "dummy_classifier = DummyClassifier(strategy='uniform')"
   ]
  },
  {
   "cell_type": "markdown",
   "id": "4e2d491b",
   "metadata": {},
   "source": [
    "### Freq"
   ]
  },
  {
   "cell_type": "code",
   "execution_count": 71,
   "id": "a9c61fb3",
   "metadata": {},
   "outputs": [
    {
     "data": {
      "text/plain": [
       "array([0.53571429, 0.42857143, 0.46428571, 0.57142857, 0.35714286,\n",
       "       0.32142857, 0.51851852, 0.59259259, 0.55555556, 0.2962963 ])"
      ]
     },
     "execution_count": 71,
     "metadata": {},
     "output_type": "execute_result"
    }
   ],
   "source": [
    "scores = cross_val_score(dummy_classifier, x_train, y_train, cv = 10, scoring = 'accuracy')\n",
    "scores"
   ]
  },
  {
   "cell_type": "code",
   "execution_count": 23,
   "id": "598c874d",
   "metadata": {},
   "outputs": [
    {
     "name": "stdout",
     "output_type": "stream",
     "text": [
      "Accuracy Dummy Freq (Validation):  0.47791005291005295\n"
     ]
    }
   ],
   "source": [
    "print('Validation Accuracy Dummy (Freq): ', scores.mean())"
   ]
  },
  {
   "cell_type": "code",
   "execution_count": 59,
   "id": "785457c2",
   "metadata": {},
   "outputs": [],
   "source": [
    "from sklearn import metrics"
   ]
  },
  {
   "cell_type": "code",
   "execution_count": 69,
   "id": "90980d70",
   "metadata": {},
   "outputs": [
    {
     "name": "stdout",
     "output_type": "stream",
     "text": [
      "Freq Test Accuracy for Dummy Classifier:  0.5285714285714286\n"
     ]
    }
   ],
   "source": [
    "dummy_classifier.fit(x_train, y_train)\n",
    "test_predict = dummy_classifier.predict(x_test)\n",
    "\n",
    "print(\"Test Accuracy Dummy (Freq): \", metrics.accuracy_score(y_test, test_predict))"
   ]
  },
  {
   "cell_type": "code",
   "execution_count": 82,
   "id": "f9eac8ef",
   "metadata": {},
   "outputs": [],
   "source": [
    "from sklearn.metrics import classification_report, confusion_matrix"
   ]
  },
  {
   "cell_type": "code",
   "execution_count": 84,
   "id": "3d24b35b",
   "metadata": {},
   "outputs": [
    {
     "name": "stdout",
     "output_type": "stream",
     "text": [
      "[[21 19]\n",
      " [12 18]]\n",
      "\t\t\tDummy Classifier w Freq Dataset\n",
      "               precision    recall  f1-score   support\n",
      "\n",
      "           0       0.64      0.53      0.58        40\n",
      "           1       0.49      0.60      0.54        30\n",
      "\n",
      "    accuracy                           0.56        70\n",
      "   macro avg       0.56      0.56      0.56        70\n",
      "weighted avg       0.57      0.56      0.56        70\n",
      "\n"
     ]
    }
   ],
   "source": [
    "# Print confusion matrix\n",
    "print(confusion_matrix(y_test, test_predict))\n",
    "\n",
    "# Print precision, recall and F1\n",
    "print(\"\\t\\t\\tDummy Classifier w Freq Dataset\\n\", classification_report(y_test, test_predict))"
   ]
  },
  {
   "cell_type": "markdown",
   "id": "99aef881",
   "metadata": {},
   "source": [
    "# "
   ]
  },
  {
   "cell_type": "markdown",
   "id": "91ec9894",
   "metadata": {},
   "source": [
    "### Norm"
   ]
  },
  {
   "cell_type": "code",
   "execution_count": null,
   "id": "7272a567",
   "metadata": {},
   "outputs": [],
   "source": [
    "scores = cross_val_score(dummy_classifier, x_train, y_train, cv = 10, scoring = 'accuracy')\n",
    "scores"
   ]
  },
  {
   "cell_type": "code",
   "execution_count": 72,
   "id": "0e7c07a5",
   "metadata": {},
   "outputs": [
    {
     "name": "stdout",
     "output_type": "stream",
     "text": [
      "Validation Accuracy Dummy (Norm):  0.4641534391534391\n"
     ]
    }
   ],
   "source": [
    "print('Validation Accuracy Dummy (Norm): ', scores.mean())"
   ]
  },
  {
   "cell_type": "code",
   "execution_count": 81,
   "id": "a52e3863",
   "metadata": {},
   "outputs": [
    {
     "name": "stdout",
     "output_type": "stream",
     "text": [
      "Test Accuracy Dummy (Norm):  0.5571428571428572\n"
     ]
    }
   ],
   "source": [
    "dummy_classifier.fit(x_train, y_train)\n",
    "test_predict = dummy_classifier.predict(x_test)\n",
    "\n",
    "print(\"Test Accuracy Dummy (Norm): \", metrics.accuracy_score(y_test, test_predict))"
   ]
  },
  {
   "cell_type": "code",
   "execution_count": null,
   "id": "98a1c837",
   "metadata": {},
   "outputs": [],
   "source": [
    "from sklearn.metrics import classification_report, confusion_matrix"
   ]
  },
  {
   "cell_type": "code",
   "execution_count": 83,
   "id": "c942714f",
   "metadata": {},
   "outputs": [
    {
     "name": "stdout",
     "output_type": "stream",
     "text": [
      "[[21 19]\n",
      " [12 18]]\n",
      "\t\t\tDummy Classifier w Norm Dataset\n",
      "               precision    recall  f1-score   support\n",
      "\n",
      "           0       0.64      0.53      0.58        40\n",
      "           1       0.49      0.60      0.54        30\n",
      "\n",
      "    accuracy                           0.56        70\n",
      "   macro avg       0.56      0.56      0.56        70\n",
      "weighted avg       0.57      0.56      0.56        70\n",
      "\n"
     ]
    }
   ],
   "source": [
    "# Print confusion matrix\n",
    "print(confusion_matrix(y_test, test_predict))\n",
    "\n",
    "# Print precision, recall and F1\n",
    "print(\"\\t\\t\\tDummy Classifier w Norm Dataset\\n\", classification_report(y_test, test_predict))"
   ]
  },
  {
   "cell_type": "markdown",
   "id": "ee75a885",
   "metadata": {},
   "source": [
    "# "
   ]
  },
  {
   "cell_type": "markdown",
   "id": "bc0cbc67",
   "metadata": {},
   "source": [
    "## K-Nearest Neighbours"
   ]
  },
  {
   "cell_type": "code",
   "execution_count": 222,
   "id": "f8f71b58",
   "metadata": {},
   "outputs": [],
   "source": [
    "from sklearn.model_selection import cross_val_score\n",
    "from sklearn.neighbors import KNeighborsClassifier"
   ]
  },
  {
   "cell_type": "markdown",
   "id": "fba78005",
   "metadata": {},
   "source": [
    "### Freq "
   ]
  },
  {
   "cell_type": "code",
   "execution_count": 198,
   "id": "e5e33d00",
   "metadata": {},
   "outputs": [
    {
     "name": "stdout",
     "output_type": "stream",
     "text": [
      "p = 1\n",
      "Fold:  5\n",
      "K- 1  Score average:  0.5179220779220779\n",
      "K- 2  Score average:  0.510909090909091\n",
      "K- 3  Score average:  0.5177272727272728\n",
      "K- 4  Score average:  0.517987012987013\n",
      "K- 5  Score average:  0.5251948051948052\n",
      "K- 6  Score average:  0.5397402597402597\n",
      "K- 7  Score average:  0.536103896103896\n",
      "K- 8  Score average:  0.5287662337662338\n",
      "K- 9  Score average:  0.5324025974025974\n",
      "K- 10  Score average:  0.5611038961038961\n",
      "K- 11  Score average:  0.5466883116883118\n",
      "K- 12  Score average:  0.5433116883116883\n",
      "K- 13  Score average:  0.5577922077922077\n",
      "K- 14  Score average:  0.5287662337662338\n",
      "K- 15  Score average:  0.5577272727272727\n",
      "K- 16  Score average:  0.5614285714285714\n",
      "K- 17  Score average:  0.546883116883117\n",
      "K- 18  Score average:  0.5688311688311687\n",
      "K- 19  Score average:  0.5796753246753247\n",
      "K- 20  Score average:  0.5542207792207792\n",
      "K- 21  Score average:  0.5577272727272727\n",
      "K- 22  Score average:  0.547077922077922\n",
      "K- 23  Score average:  0.5579220779220779\n",
      "K- 24  Score average:  0.5615584415584415\n",
      "K- 25  Score average:  0.5542857142857143\n",
      "K- 26  Score average:  0.5616233766233766\n",
      "K- 27  Score average:  0.558051948051948\n",
      "K- 28  Score average:  0.5579220779220779\n",
      "K- 29  Score average:  0.5761688311688311\n",
      "Highest score mean:  0.5796753246753247 , Highest K-value:  19 \n",
      "\n",
      "p = 1\n",
      "Fold:  10\n",
      "K- 1  Score average:  0.5153439153439153\n",
      "K- 2  Score average:  0.5149470899470899\n",
      "K- 3  Score average:  0.4892857142857143\n",
      "K- 4  Score average:  0.4859788359788359\n",
      "K- 5  Score average:  0.5222222222222221\n",
      "K- 6  Score average:  0.5001322751322752\n",
      "K- 7  Score average:  0.5357142857142857\n",
      "K- 8  Score average:  0.5186507936507937\n",
      "K- 9  Score average:  0.5035714285714286\n",
      "K- 10  Score average:  0.5112433862433863\n",
      "K- 11  Score average:  0.4932539682539683\n",
      "K- 12  Score average:  0.522089947089947\n",
      "K- 13  Score average:  0.5181216931216931\n",
      "K- 14  Score average:  0.5365079365079365\n",
      "K- 15  Score average:  0.5403439153439153\n",
      "K- 16  Score average:  0.535978835978836\n",
      "K- 17  Score average:  0.53994708994709\n",
      "K- 18  Score average:  0.5324074074074073\n",
      "K- 19  Score average:  0.546957671957672\n",
      "K- 20  Score average:  0.5505291005291004\n",
      "K- 21  Score average:  0.5218253968253967\n",
      "K- 22  Score average:  0.5218253968253969\n",
      "K- 23  Score average:  0.5476190476190476\n",
      "K- 24  Score average:  0.5326719576719576\n",
      "K- 25  Score average:  0.5402116402116401\n",
      "K- 26  Score average:  0.5362433862433862\n",
      "K- 27  Score average:  0.522089947089947\n",
      "K- 28  Score average:  0.5041005291005292\n",
      "K- 29  Score average:  0.5439153439153439\n",
      "Highest score mean:  0.5505291005291004 , Highest K-value:  20 \n",
      "\n",
      "p = 2\n",
      "Fold:  5\n",
      "K- 1  Score average:  0.49266233766233763\n",
      "K- 2  Score average:  0.5398051948051947\n",
      "K- 3  Score average:  0.4927272727272727\n",
      "K- 4  Score average:  0.48545454545454547\n",
      "K- 5  Score average:  0.4855194805194805\n",
      "K- 6  Score average:  0.5143506493506493\n",
      "K- 7  Score average:  0.4744155844155844\n",
      "K- 8  Score average:  0.5325324675324675\n",
      "K- 9  Score average:  0.517987012987013\n",
      "K- 10  Score average:  0.5325324675324675\n",
      "K- 11  Score average:  0.5288961038961038\n",
      "K- 12  Score average:  0.5541558441558442\n",
      "K- 13  Score average:  0.5542857142857143\n",
      "K- 14  Score average:  0.5396753246753246\n",
      "K- 15  Score average:  0.5578571428571428\n",
      "K- 16  Score average:  0.5688961038961039\n",
      "K- 17  Score average:  0.5542207792207792\n",
      "K- 18  Score average:  0.5508441558441559\n",
      "K- 19  Score average:  0.5759740259740259\n",
      "K- 20  Score average:  0.575974025974026\n",
      "K- 21  Score average:  0.5542207792207792\n",
      "K- 22  Score average:  0.5541558441558442\n",
      "K- 23  Score average:  0.5651298701298701\n",
      "K- 24  Score average:  0.5614935064935065\n",
      "K- 25  Score average:  0.5794805194805195\n",
      "K- 26  Score average:  0.565064935064935\n",
      "K- 27  Score average:  0.5616233766233766\n",
      "K- 28  Score average:  0.5544155844155844\n",
      "K- 29  Score average:  0.5907142857142856\n",
      "Highest score mean:  0.5907142857142856 , Highest K-value:  29 \n",
      "\n",
      "p = 2\n",
      "Fold:  10\n",
      "K- 1  Score average:  0.5043650793650793\n",
      "K- 2  Score average:  0.5472222222222223\n",
      "K- 3  Score average:  0.4928571428571429\n",
      "K- 4  Score average:  0.4891534391534392\n",
      "K- 5  Score average:  0.47817460317460314\n",
      "K- 6  Score average:  0.48915343915343906\n",
      "K- 7  Score average:  0.4884920634920634\n",
      "K- 8  Score average:  0.5035714285714286\n",
      "K- 9  Score average:  0.49259259259259264\n",
      "K- 10  Score average:  0.5105820105820106\n",
      "K- 11  Score average:  0.49576719576719575\n",
      "K- 12  Score average:  0.5104497354497355\n",
      "K- 13  Score average:  0.4810846560846561\n",
      "K- 14  Score average:  0.5215608465608466\n",
      "K- 15  Score average:  0.5027777777777778\n",
      "K- 16  Score average:  0.5183862433862434\n",
      "K- 17  Score average:  0.5066137566137565\n",
      "K- 18  Score average:  0.5328042328042327\n",
      "K- 19  Score average:  0.5181216931216931\n",
      "K- 20  Score average:  0.5575396825396826\n",
      "K- 21  Score average:  0.5576719576719577\n",
      "K- 22  Score average:  0.543121693121693\n",
      "K- 23  Score average:  0.5796296296296297\n",
      "K- 24  Score average:  0.5505291005291004\n",
      "K- 25  Score average:  0.5796296296296297\n",
      "K- 26  Score average:  0.5652116402116402\n",
      "K- 27  Score average:  0.5648148148148148\n",
      "K- 28  Score average:  0.558068783068783\n",
      "K- 29  Score average:  0.5611111111111111\n",
      "Highest score mean:  0.5796296296296297 , Highest K-value:  23 \n",
      "\n"
     ]
    }
   ],
   "source": [
    "K = []\n",
    "validation = []\n",
    "scores = {}\n",
    "\n",
    "for p_value in range(1,3):\n",
    "    \n",
    "    for fold in [5,10]:\n",
    "        highest = 0\n",
    "        highest_k = 0\n",
    "        print('p =', p_value)\n",
    "        print('Fold: ', fold)\n",
    "        for k in range(1,30):\n",
    "            knn_classifier = KNeighborsClassifier(n_neighbors = k, p = p_value)\n",
    "            scores = cross_val_score(knn_classifier, x_train, y_train, cv = fold, scoring = 'accuracy')\n",
    "            print('K-',k, ' Score average: ', scores.mean())\n",
    "            if(scores.mean() > highest):\n",
    "                highest = scores.mean()\n",
    "                highest_k = k\n",
    "                \n",
    "        print('Highest score mean: ', highest, ', Highest K-value: ', highest_k, '\\n')\n",
    "\n",
    "# p=2, k=29, fold=5 yields the highest accuracy"
   ]
  },
  {
   "cell_type": "code",
   "execution_count": 203,
   "id": "b93d9d87",
   "metadata": {},
   "outputs": [],
   "source": [
    "knn_classifier = KNeighborsClassifier(n_neighbors = 29, p = 2)"
   ]
  },
  {
   "cell_type": "code",
   "execution_count": 204,
   "id": "5c21f320",
   "metadata": {},
   "outputs": [
    {
     "name": "stdout",
     "output_type": "stream",
     "text": [
      "Validation Accuracy KNN (Freq):  0.5907142857142856\n"
     ]
    }
   ],
   "source": [
    "scores = cross_val_score(knn_classifier, x_train, y_train, cv = 5, scoring = 'accuracy')\n",
    "print(\"Validation Accuracy KNN (Freq): \", scores.mean())"
   ]
  },
  {
   "cell_type": "code",
   "execution_count": 205,
   "id": "d9e75c77",
   "metadata": {},
   "outputs": [
    {
     "name": "stdout",
     "output_type": "stream",
     "text": [
      "Test Accuracy KNN (Freq):  0.6428571428571429\n"
     ]
    }
   ],
   "source": [
    "knn_classifier.fit(x_train,y_train)\n",
    "\n",
    "test_predict = knn_classifier.predict(x_test)\n",
    "print(\"Test Accuracy KNN (Freq): \", metrics.accuracy_score(y_test, test_predict))"
   ]
  },
  {
   "cell_type": "code",
   "execution_count": null,
   "id": "b049aea8",
   "metadata": {},
   "outputs": [],
   "source": [
    "#1-5% difference is reasonable"
   ]
  },
  {
   "cell_type": "markdown",
   "id": "b705356c",
   "metadata": {},
   "source": [
    "#"
   ]
  },
  {
   "cell_type": "markdown",
   "id": "1bab09de",
   "metadata": {},
   "source": [
    "### Norm "
   ]
  },
  {
   "cell_type": "code",
   "execution_count": 207,
   "id": "1b4f7795",
   "metadata": {},
   "outputs": [
    {
     "name": "stdout",
     "output_type": "stream",
     "text": [
      "p = 1\n",
      "Fold:  5\n",
      "K- 1  Score average:  0.5904545454545455\n",
      "K- 2  Score average:  0.5505194805194804\n",
      "K- 3  Score average:  0.546948051948052\n",
      "K- 4  Score average:  0.5324025974025973\n",
      "K- 5  Score average:  0.5143506493506493\n",
      "K- 6  Score average:  0.5216883116883116\n",
      "K- 7  Score average:  0.5324025974025974\n",
      "K- 8  Score average:  0.5468181818181819\n",
      "K- 9  Score average:  0.5433116883116883\n",
      "K- 10  Score average:  0.5614285714285714\n",
      "K- 11  Score average:  0.5431818181818182\n",
      "K- 12  Score average:  0.5468831168831169\n",
      "K- 13  Score average:  0.546948051948052\n",
      "K- 14  Score average:  0.5612987012987013\n",
      "K- 15  Score average:  0.535974025974026\n",
      "K- 16  Score average:  0.5395454545454546\n",
      "K- 17  Score average:  0.5397402597402597\n",
      "K- 18  Score average:  0.5178571428571429\n",
      "K- 19  Score average:  0.5143506493506493\n",
      "K- 20  Score average:  0.5287012987012987\n",
      "K- 21  Score average:  0.5323376623376623\n",
      "K- 22  Score average:  0.5248701298701299\n",
      "K- 23  Score average:  0.5359740259740259\n",
      "K- 24  Score average:  0.5503246753246753\n",
      "K- 25  Score average:  0.5505194805194805\n",
      "K- 26  Score average:  0.5361038961038961\n",
      "K- 27  Score average:  0.5613636363636363\n",
      "K- 28  Score average:  0.5434415584415585\n",
      "K- 29  Score average:  0.5544155844155844\n",
      "Highest score mean:  0.5904545454545455 , Highest K-value:  1 \n",
      "\n",
      "p = 1\n",
      "Fold:  10\n",
      "K- 1  Score average:  0.5575396825396826\n",
      "K- 2  Score average:  0.553968253968254\n",
      "K- 3  Score average:  0.5041005291005292\n",
      "K- 4  Score average:  0.5396825396825397\n",
      "K- 5  Score average:  0.5005291005291005\n",
      "K- 6  Score average:  0.5220899470899469\n",
      "K- 7  Score average:  0.5006613756613757\n",
      "K- 8  Score average:  0.5296296296296297\n",
      "K- 9  Score average:  0.532936507936508\n",
      "K- 10  Score average:  0.5473544973544973\n",
      "K- 11  Score average:  0.5439153439153439\n",
      "K- 12  Score average:  0.5398148148148147\n",
      "K- 13  Score average:  0.528968253968254\n",
      "K- 14  Score average:  0.5326719576719576\n",
      "K- 15  Score average:  0.5437830687830688\n",
      "K- 16  Score average:  0.5398148148148147\n",
      "K- 17  Score average:  0.5367724867724868\n",
      "K- 18  Score average:  0.5112433862433863\n",
      "K- 19  Score average:  0.5115079365079366\n",
      "K- 20  Score average:  0.5005291005291006\n",
      "K- 21  Score average:  0.5148148148148148\n",
      "K- 22  Score average:  0.503968253968254\n",
      "K- 23  Score average:  0.5072751322751323\n",
      "K- 24  Score average:  0.5108465608465609\n",
      "K- 25  Score average:  0.5398148148148147\n",
      "K- 26  Score average:  0.5297619047619047\n",
      "K- 27  Score average:  0.5476190476190477\n",
      "K- 28  Score average:  0.5585978835978838\n",
      "K- 29  Score average:  0.5404761904761904\n",
      "Highest score mean:  0.5585978835978838 , Highest K-value:  28 \n",
      "\n",
      "p = 2\n",
      "Fold:  5\n",
      "K- 1  Score average:  0.5688311688311687\n",
      "K- 2  Score average:  0.5505844155844156\n",
      "K- 3  Score average:  0.5397402597402596\n",
      "K- 4  Score average:  0.5397402597402596\n",
      "K- 5  Score average:  0.49993506493506495\n",
      "K- 6  Score average:  0.5578571428571429\n",
      "K- 7  Score average:  0.5398701298701298\n",
      "K- 8  Score average:  0.5577272727272727\n",
      "K- 9  Score average:  0.5360389610389611\n",
      "K- 10  Score average:  0.5467532467532467\n",
      "K- 11  Score average:  0.5322727272727272\n",
      "K- 12  Score average:  0.5287012987012987\n",
      "K- 13  Score average:  0.5359090909090909\n",
      "K- 14  Score average:  0.5467532467532468\n",
      "K- 15  Score average:  0.5466883116883116\n",
      "K- 16  Score average:  0.5395454545454546\n",
      "K- 17  Score average:  0.5325324675324675\n",
      "K- 18  Score average:  0.5395454545454544\n",
      "K- 19  Score average:  0.5651298701298701\n",
      "K- 20  Score average:  0.5868181818181818\n",
      "K- 21  Score average:  0.5653896103896103\n",
      "K- 22  Score average:  0.5615584415584415\n",
      "K- 23  Score average:  0.5725324675324674\n",
      "K- 24  Score average:  0.5687662337662337\n",
      "K- 25  Score average:  0.5760389610389611\n",
      "K- 26  Score average:  0.5832467532467532\n",
      "K- 27  Score average:  0.5942207792207792\n",
      "K- 28  Score average:  0.5833766233766233\n",
      "K- 29  Score average:  0.5833116883116884\n",
      "Highest score mean:  0.5942207792207792 , Highest K-value:  27 \n",
      "\n",
      "p = 2\n",
      "Fold:  10\n",
      "K- 1  Score average:  0.5466931216931217\n",
      "K- 2  Score average:  0.5361111111111111\n",
      "K- 3  Score average:  0.5216931216931218\n",
      "K- 4  Score average:  0.5395502645502644\n",
      "K- 5  Score average:  0.5037037037037038\n",
      "K- 6  Score average:  0.5248677248677248\n",
      "K- 7  Score average:  0.5321428571428571\n",
      "K- 8  Score average:  0.5505291005291005\n",
      "K- 9  Score average:  0.5612433862433862\n",
      "K- 10  Score average:  0.554100529100529\n",
      "K- 11  Score average:  0.5502645502645501\n",
      "K- 12  Score average:  0.5247354497354497\n",
      "K- 13  Score average:  0.538888888888889\n",
      "K- 14  Score average:  0.5173280423280424\n",
      "K- 15  Score average:  0.5281746031746033\n",
      "K- 16  Score average:  0.5429894179894179\n",
      "K- 17  Score average:  0.5394179894179894\n",
      "K- 18  Score average:  0.5359788359788359\n",
      "K- 19  Score average:  0.5395502645502646\n",
      "K- 20  Score average:  0.5617724867724868\n",
      "K- 21  Score average:  0.5547619047619048\n",
      "K- 22  Score average:  0.5441798941798942\n",
      "K- 23  Score average:  0.5583333333333333\n",
      "K- 24  Score average:  0.5515873015873016\n",
      "K- 25  Score average:  0.5550264550264551\n",
      "K- 26  Score average:  0.5439153439153439\n",
      "K- 27  Score average:  0.5584656084656084\n",
      "K- 28  Score average:  0.55489417989418\n",
      "K- 29  Score average:  0.5506613756613756\n",
      "Highest score mean:  0.5617724867724868 , Highest K-value:  20 \n",
      "\n"
     ]
    }
   ],
   "source": [
    "K = []\n",
    "validation = []\n",
    "scores = {}\n",
    "\n",
    "for p_value in range(1,3):\n",
    "    \n",
    "    for fold in [5,10]:\n",
    "        highest = 0\n",
    "        highest_k = 0\n",
    "        print('p =', p_value)\n",
    "        print('Fold: ', fold)\n",
    "        for k in range(1,30):\n",
    "            knn_classifier = KNeighborsClassifier(n_neighbors = k, p = p_value)\n",
    "            scores = cross_val_score(knn_classifier, x_train, y_train, cv = fold, scoring = 'accuracy')\n",
    "            print('K-',k, ' Score average: ', scores.mean())\n",
    "            if(scores.mean() > highest):\n",
    "                highest = scores.mean()\n",
    "                highest_k = k\n",
    "                \n",
    "        print('Highest score mean: ', highest, ', Highest K-value: ', highest_k, '\\n')\n",
    "\n",
    "# p=2, k=27, fold=5 yields the highest accuracy"
   ]
  },
  {
   "cell_type": "code",
   "execution_count": 217,
   "id": "6d609dc5",
   "metadata": {},
   "outputs": [],
   "source": [
    "knn_classifier = KNeighborsClassifier(n_neighbors = 1, p = 1)"
   ]
  },
  {
   "cell_type": "code",
   "execution_count": 218,
   "id": "7baaed9f",
   "metadata": {},
   "outputs": [
    {
     "name": "stdout",
     "output_type": "stream",
     "text": [
      "Validation Accuracy KNN (Freq):  0.5904545454545455\n"
     ]
    }
   ],
   "source": [
    "scores = cross_val_score(knn_classifier, x_train, y_train, cv = 5, scoring = 'accuracy')\n",
    "print(\"Validation Accuracy KNN (Freq): \", scores.mean())"
   ]
  },
  {
   "cell_type": "code",
   "execution_count": 219,
   "id": "3ce805ec",
   "metadata": {},
   "outputs": [
    {
     "name": "stdout",
     "output_type": "stream",
     "text": [
      "Test Accuracy KNN (Norm):  0.6\n"
     ]
    }
   ],
   "source": [
    "knn_classifier.fit(x_train,y_train)\n",
    "\n",
    "test_predict = knn_classifier.predict(x_test)\n",
    "print(\"Test Accuracy KNN (Norm): \", metrics.accuracy_score(y_test, test_predict))"
   ]
  },
  {
   "cell_type": "markdown",
   "id": "7f7dc401",
   "metadata": {},
   "source": [
    "# "
   ]
  },
  {
   "cell_type": "markdown",
   "id": "38c10a19",
   "metadata": {},
   "source": [
    "# SVM"
   ]
  },
  {
   "cell_type": "code",
   "execution_count": 224,
   "id": "070640ad",
   "metadata": {},
   "outputs": [],
   "source": [
    "from sklearn.model_selection import cross_val_score\n",
    "from sklearn.svm import SVC \n",
    "from sklearn.model_selection import GridSearchCV"
   ]
  },
  {
   "cell_type": "code",
   "execution_count": 238,
   "id": "d97a3c13",
   "metadata": {},
   "outputs": [
    {
     "ename": "AttributeError",
     "evalue": "'dict' object has no attribute 'value'",
     "output_type": "error",
     "traceback": [
      "\u001b[1;31m---------------------------------------------------------------------------\u001b[0m",
      "\u001b[1;31mAttributeError\u001b[0m                            Traceback (most recent call last)",
      "Cell \u001b[1;32mIn[238], line 9\u001b[0m\n\u001b[0;32m      7\u001b[0m grid_search \u001b[38;5;241m=\u001b[39m GridSearchCV(SVC(kernel\u001b[38;5;241m=\u001b[39m SVM_mode), param_grid, cv\u001b[38;5;241m=\u001b[39m fold)\n\u001b[0;32m      8\u001b[0m grid_result \u001b[38;5;241m=\u001b[39m grid_search\u001b[38;5;241m.\u001b[39mfit(x_train, y_train)\n\u001b[1;32m----> 9\u001b[0m C_best \u001b[38;5;241m=\u001b[39m \u001b[43mgrid_result\u001b[49m\u001b[38;5;241;43m.\u001b[39;49m\u001b[43mbest_params_\u001b[49m\u001b[38;5;241;43m.\u001b[39;49m\u001b[43mvalue\u001b[49m \u001b[38;5;66;03m#'C' : '1'\u001b[39;00m\n\u001b[0;32m     10\u001b[0m \u001b[38;5;28mprint\u001b[39m(\u001b[38;5;124m'\u001b[39m\u001b[38;5;124mKernel= \u001b[39m\u001b[38;5;124m'\u001b[39m, SVM_mode)\n\u001b[0;32m     11\u001b[0m \u001b[38;5;28mprint\u001b[39m(\u001b[38;5;124m'\u001b[39m\u001b[38;5;124mFold: \u001b[39m\u001b[38;5;124m'\u001b[39m, fold)\n",
      "\u001b[1;31mAttributeError\u001b[0m: 'dict' object has no attribute 'value'"
     ]
    }
   ],
   "source": [
    "K = []\n",
    "validation = []\n",
    "scores = {}\n",
    "param_grid = {'C': [1.0,10.0,100.0,1000.0]}\n",
    "for SVM_mode in ['linear', 'poly', 'rbf', 'sigmoid']:\n",
    "    for fold in [5,10]:\n",
    "        grid_search = GridSearchCV(SVC(kernel= SVM_mode), param_grid, cv= fold)\n",
    "        grid_result = grid_search.fit(x_train, y_train)\n",
    "        C_best = grid_result.best_params_.value #'C' : '1'\n",
    "        print('Kernel= ', SVM_mode)\n",
    "        print('Fold: ', fold)\n",
    "        \n",
    "        if(SVM_mode == 'linear'):\n",
    "            svm = SVC(kernel= SVM_mode, C= C_best)\n",
    "        else:\n",
    "            svm = SVC(kernel= SVM_mode, C= C_best)\n",
    "        \n",
    "        scores = cross_val_score(svm, x_train, y_train, cv= fold, scoring = 'accuracy')\n",
    "        scores.mean()\n",
    "                \n",
    "\n",
    "# p=2, k=27, fold=5 yields the highest accuracy"
   ]
  },
  {
   "cell_type": "code",
   "execution_count": null,
   "id": "b7246857",
   "metadata": {},
   "outputs": [],
   "source": []
  }
 ],
 "metadata": {
  "kernelspec": {
   "display_name": "Python 3 (ipykernel)",
   "language": "python",
   "name": "python3"
  },
  "language_info": {
   "codemirror_mode": {
    "name": "ipython",
    "version": 3
   },
   "file_extension": ".py",
   "mimetype": "text/x-python",
   "name": "python",
   "nbconvert_exporter": "python",
   "pygments_lexer": "ipython3",
   "version": "3.10.9"
  }
 },
 "nbformat": 4,
 "nbformat_minor": 5
}
